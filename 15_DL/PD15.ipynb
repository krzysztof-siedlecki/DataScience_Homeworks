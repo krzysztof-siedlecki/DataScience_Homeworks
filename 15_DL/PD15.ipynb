{
 "cells": [
  {
   "cell_type": "markdown",
   "id": "fe0837b5",
   "metadata": {},
   "source": [
    "# Praca domowa 15"
   ]
  },
  {
   "cell_type": "markdown",
   "id": "7db829e8",
   "metadata": {},
   "source": [
    "Zadanie 1\n",
    "\n",
    "Posługując się metodyka przedstawioną w sekcji 3 notebooka z ostatnich zajęć ([link](https://github.com/infoshareacademy/jdszr4-materialy-dl/blob/master/01_intro/intro_tf.ipynb)) przeprowadź analogiczne rozumowanie dla funkcji $y=ax^2+bx+c$."
   ]
  },
  {
   "cell_type": "code",
   "execution_count": null,
   "id": "66840d4f",
   "metadata": {},
   "outputs": [],
   "source": []
  }
 ],
 "metadata": {
  "kernelspec": {
   "display_name": "Python 3",
   "language": "python",
   "name": "python3"
  },
  "language_info": {
   "codemirror_mode": {
    "name": "ipython",
    "version": 3
   },
   "file_extension": ".py",
   "mimetype": "text/x-python",
   "name": "python",
   "nbconvert_exporter": "python",
   "pygments_lexer": "ipython3",
   "version": "3.8.8"
  }
 },
 "nbformat": 4,
 "nbformat_minor": 5
}
