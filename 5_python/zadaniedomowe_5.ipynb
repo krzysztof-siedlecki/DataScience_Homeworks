{
 "cells": [
  {
   "cell_type": "markdown",
   "metadata": {},
   "source": [
    "#### Zadanie 1\n",
    "\n",
    "Wypisz do konsoli tekst \"Twój wynik to: 5.0!\"\n",
    "\n",
    "Wykorzystaj zmienną `wynik` i formatowanie stringa (f\"\", lub metoda .format())"
   ]
  },
  {
   "cell_type": "code",
   "execution_count": 1,
   "metadata": {},
   "outputs": [
    {
     "name": "stdout",
     "output_type": "stream",
     "text": [
      "Twók wynik to: 5.0!\n"
     ]
    }
   ],
   "source": [
    "wynik = 5.0\n",
    "statement = \"Twók wynik to: {}!\"\n",
    "print(statement.format(wynik))"
   ]
  },
  {
   "cell_type": "markdown",
   "metadata": {},
   "source": [
    "#### Zadanie 2\n",
    "\n",
    "Wypisz tekst tak jak wyżej, ale zmień formatowanie na 3 miejsca po przecinku\n",
    "\n",
    "\"Twój wynik to: 5.000!\"\n",
    "\n",
    "Wykorzystaj formatowanie miejsc po przecinku (:.3f we właściwym miejscu)"
   ]
  },
  {
   "cell_type": "code",
   "execution_count": 2,
   "metadata": {},
   "outputs": [
    {
     "name": "stdout",
     "output_type": "stream",
     "text": [
      "Twók wynik to: 5.000!\n"
     ]
    }
   ],
   "source": [
    "wynik = 5.0\n",
    "statement = \"Twók wynik to: {:.3f}!\"\n",
    "print(statement.format(wynik))"
   ]
  },
  {
   "cell_type": "markdown",
   "metadata": {},
   "source": [
    "#### Zadanie 3\n",
    "\n",
    "Zmień wartość zmiennej `wynik` na 4.15\n",
    "\n",
    "Wypisz tekst z zadania 2 z nową wartością"
   ]
  },
  {
   "cell_type": "code",
   "execution_count": 4,
   "metadata": {},
   "outputs": [
    {
     "name": "stdout",
     "output_type": "stream",
     "text": [
      "Twók wynik to: 4.15!\n"
     ]
    }
   ],
   "source": [
    "wynik = 4.15\n",
    "statement = \"Twók wynik to: {}!\"\n",
    "print(statement.format(wynik))"
   ]
  },
  {
   "cell_type": "markdown",
   "metadata": {},
   "source": [
    "#### Zadanie 4\n",
    "\n",
    "41737 na 88615 programistów używa pythona.\n",
    "\n",
    "Wypisz te wartość procentowo, z dokładnością do 1 miejsca po przecinku."
   ]
  },
  {
   "cell_type": "code",
   "execution_count": 7,
   "metadata": {},
   "outputs": [
    {
     "name": "stdout",
     "output_type": "stream",
     "text": [
      "47.1% programistów używa pythona\n"
     ]
    }
   ],
   "source": [
    "statement = \"{:.1f}% programistów używa pythona\"\n",
    "dzialanie = ((41737/88615)*100)\n",
    "print(statement.format(dzialanie))"
   ]
  },
  {
   "cell_type": "markdown",
   "metadata": {},
   "source": [
    "#### Zadanie 5\n",
    "\n",
    "Do `imie` i `nazwisko` wpisz... imie i nazwisko, ale małymi literami.\n",
    "\n",
    "Następnie, zapisz do jednej zmiennej `user` imie i nazwisko, oba z wielkiej litery, rozdzielone spacją.\n",
    "\n",
    "Przykładowy wynik: \"Krzysztof Glapiak\" otrzymany z \"krzysztof\" i \"glapiak\""
   ]
  },
  {
   "cell_type": "code",
   "execution_count": 10,
   "metadata": {},
   "outputs": [
    {
     "name": "stdout",
     "output_type": "stream",
     "text": [
      "Krzysztof Siedlecki\n"
     ]
    }
   ],
   "source": [
    "imie = \"krzysztof\"\n",
    "nazwisko = \"siedlecki\"\n",
    "user = (imie.capitalize() + ' ' + nazwisko.capitalize())\n",
    "print(user)"
   ]
  },
  {
   "cell_type": "markdown",
   "metadata": {},
   "source": [
    "#### Zadanie 6\n",
    "\n",
    "Napisz program który policzy ile razy Rihanna śpiewa \"work\" we fragmencie swojego utworu\n",
    "\n",
    "Wykorzystaj metodę `count`"
   ]
  },
  {
   "cell_type": "code",
   "execution_count": 12,
   "metadata": {},
   "outputs": [
    {
     "name": "stdout",
     "output_type": "stream",
     "text": [
      "17\n"
     ]
    }
   ],
   "source": [
    "fragment_piosenki = \"\"\"Work, work, work, work, work, work\n",
    "You see me I be work, work, work, work, work, work\n",
    "You see me do me dirt, dirt, dirt, dirt, dirt, dirt\n",
    "There's something 'bout that work, work, work, work, work, work\n",
    "When you a gon' learn, learn, learn, learn, learn, learn\n",
    "Me na care if me tired, tired, tired, tired, tired, tired\"\"\"\n",
    "\n",
    "print(fragment_piosenki.count(\"work\"))"
   ]
  },
  {
   "cell_type": "markdown",
   "metadata": {},
   "source": [
    "####  Zadanie 7\n",
    "\n",
    "Napisz program, który sprawdzi ile znaków potrzeba, żeby Rihanna zmęczyła się własną piosenką, tzn., na ktorej pozycji znajduje się pierwsze wystąpienie słowa \"tired\" we fragmencie utworu\n",
    "\n",
    "Wykorzystaj metodę `find`"
   ]
  },
  {
   "cell_type": "code",
   "execution_count": 14,
   "metadata": {},
   "outputs": [
    {
     "name": "stdout",
     "output_type": "stream",
     "text": [
      "276\n"
     ]
    }
   ],
   "source": [
    "print(fragment_piosenki.find(\"tired\"))"
   ]
  },
  {
   "cell_type": "markdown",
   "metadata": {},
   "source": [
    "#### Zadanie 8\n",
    "\n",
    "Nie wszyscy muszą utożsamiać się z fragmentem piosenki - dostosujmy więc tekst do siebie.\n",
    "\n",
    "Napisz program, który odpowiednio zamieni wszystkie wystąpienia słowów:\n",
    "\n",
    "\"work\" na \"programming\" (Uwzględnij pierwsze wystąpienie z wielkiej litery!),\n",
    "\n",
    "\"dirt\" na \"python\"\n",
    "\n",
    "Wykorzystaj metodę `replace`"
   ]
  },
  {
   "cell_type": "code",
   "execution_count": 24,
   "metadata": {},
   "outputs": [
    {
     "name": "stdout",
     "output_type": "stream",
     "text": [
      "Programming, programming, programming, programming, programming, programming\n",
      "You see me I be programming, programming, programming, programming, programming, programming\n",
      "You see me do me python, python, python, python, python, python\n",
      "There's something 'bout that programming, programming, programming, programming, programming, programming\n",
      "When you a gon' learn, learn, learn, learn, learn, learn\n",
      "Me na care if me tired, tired, tired, tired, tired, tired\n"
     ]
    }
   ],
   "source": [
    "zmieniony_fragment =((fragment_piosenki.replace(\"Work\",\"Programming\")).replace(\"work\",\"programming\")).replace(\"dirt\",\"python\")\n",
    "print(zmieniony_fragment)"
   ]
  },
  {
   "cell_type": "markdown",
   "metadata": {},
   "source": [
    "#### Zadanie 9 z gwiazdką - jeszcze nie omówiliśmy wyrażeń logicznych, ale śmiało spróbuj\n",
    "\n",
    "Napisz program który sprawdzi i wypisze wartość boolean, czy podany plik jest obrazkiem.\n",
    "\n",
    "Załóżmy, że obsługujemy następujące formaty: .bmp .png .jpg .jpeg\n",
    "\n",
    "Spróbuj zrealizować zadanie na dwa sposoby:\n",
    "\n",
    "a. slicing\n",
    "\n",
    "b. wykorzystując metodę `endswith`"
   ]
  },
  {
   "cell_type": "code",
   "execution_count": 28,
   "metadata": {},
   "outputs": [
    {
     "name": "stdout",
     "output_type": "stream",
     "text": [
      "Slicing\n",
      "True\n",
      "True\n",
      "False\n",
      "Metoda endwith\n",
      "True\n",
      "True\n",
      "False\n"
     ]
    }
   ],
   "source": [
    "filename_1 = \"obrazek1.jpeg\"\n",
    "filename_2 = \"obrazek1.png\"\n",
    "filename_3 = \"obrazek1.docx\"\n",
    "\n",
    "obrazki = [filename_1, filename_2, filename_3]\n",
    "\n",
    "print(\"Slicing\")\n",
    "for i in range(len(obrazki)):\n",
    "    result_1 = (obrazki[i])[-3:] in [\"bmp\", \"png\", \"jpg\"]\n",
    "    result_2 = (obrazki[i])[-4:] in [\"jpeg\"]\n",
    "    print(result_1 or result_2)\n",
    "\n",
    "print(\"Metoda endwith\")\n",
    "for i in range(len(obrazki)):\n",
    "    result_1 = (obrazki[i]).endswith(\"bmp\")\n",
    "    result_2 = (obrazki[i]).endswith(\"png\")\n",
    "    result_3 = (obrazki[i]).endswith(\"jpg\")\n",
    "    result_4 = (obrazki[i]).endswith(\"jpeg\")\n",
    "    print(result_1 or result_2 or result_3 or result_4)"
   ]
  }
 ],
 "metadata": {
  "kernelspec": {
   "display_name": "Python 3 (ipykernel)",
   "language": "python",
   "name": "python3"
  },
  "language_info": {
   "codemirror_mode": {
    "name": "ipython",
    "version": 3
   },
   "file_extension": ".py",
   "mimetype": "text/x-python",
   "name": "python",
   "nbconvert_exporter": "python",
   "pygments_lexer": "ipython3",
   "version": "3.8.11"
  }
 },
 "nbformat": 4,
 "nbformat_minor": 4
}
