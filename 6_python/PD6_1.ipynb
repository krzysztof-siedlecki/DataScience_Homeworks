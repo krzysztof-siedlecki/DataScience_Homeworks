{
 "cells": [
  {
   "cell_type": "code",
   "execution_count": null,
   "metadata": {},
   "outputs": [],
   "source": []
  },
  {
   "cell_type": "markdown",
   "metadata": {},
   "source": [
    "#### Zadanie 1\n",
    "\n",
    "Poniżej znajduje się lista prostokątów opisanych jako para (bok_a, bok_b).\n",
    "Dla każego z prostokątów wylicz obwód i pole powierzchni.\n",
    "\n",
    "Stwórz nową listę `wyniki` która będzie zawierała pary `(obwod, pole)` dla każdego z prostokątów."
   ]
  },
  {
   "cell_type": "code",
   "execution_count": 2,
   "metadata": {},
   "outputs": [],
   "source": [
    "rects = [\n",
    "    (10, 50),\n",
    "    (10, 9),\n",
    "    (15, 3),\n",
    "    (30, 45)\n",
    "]"
   ]
  },
  {
   "cell_type": "markdown",
   "metadata": {},
   "source": [
    "#### Zadanie 2\n",
    "\n",
    "Iterując przez listę słowników wypisz dane tych osób, które mają więcej niż 30 lat"
   ]
  },
  {
   "cell_type": "code",
   "execution_count": null,
   "metadata": {},
   "outputs": [],
   "source": [
    "rekordy = [\n",
    "    {\"imie\": \"Adam\", \"nazwisko\": \"Nowak\", \"wiek\": 35},\n",
    "    {\"imie\": \"Anna\", \"nazwisko\": \"Nowak\", \"wiek\": 29},\n",
    "    {\"imie\": \"Artur\", \"nazwisko\": \"Nowakowski\", \"wiek\": 39},\n",
    "    {\"imie\": \"Alojzy\", \"nazwisko\": \"Kowalski\", \"wiek\": 19}\n",
    "]"
   ]
  },
  {
   "cell_type": "markdown",
   "metadata": {},
   "source": [
    "#### Zadanie 3\n",
    "\n",
    "Napisz funkcję, która przyjmie słownik i wypisze wszystkie elementy w formie `<klucz> : <wartość>`\n",
    "\n",
    "Np. dla `{\"id\": 1, \"marka\": \"Audi\"}`\n",
    "\n",
    "```\n",
    "id : 1\n",
    "marka : Audi\n",
    "```"
   ]
  },
  {
   "cell_type": "markdown",
   "metadata": {},
   "source": [
    "#### Zadanie 4\n",
    "\n",
    "Dopisz do każdego słownika z listy klucz `zawód` z odpowiednią wartością (zgodnie z kolejnością)"
   ]
  },
  {
   "cell_type": "code",
   "execution_count": null,
   "metadata": {},
   "outputs": [],
   "source": [
    "rekordy = [\n",
    "    {\"imie\": \"Adam\", \"nazwisko\": \"Nowak\", \"wiek\": 35},\n",
    "    {\"imie\": \"Anna\", \"nazwisko\": \"Nowak\", \"wiek\": 29},\n",
    "    {\"imie\": \"Artur\", \"nazwisko\": \"Nowakowski\", \"wiek\": 39},\n",
    "    {\"imie\": \"Alojzy\", \"nazwisko\": \"Kowalski\", \"wiek\": 19}\n",
    "]\n",
    "zawody = [\"Programista Java\", \"Programistka PHP\", \"Programista Python\", \"CEO startupu\"]"
   ]
  },
  {
   "cell_type": "markdown",
   "metadata": {},
   "source": [
    "#### Zadanie 5\n",
    "\n",
    "Na podstawie listy słowników stwórz drugą listę, w której słowniki będą zawierały wyłącznie klucze `imie` i `nazwisko`"
   ]
  },
  {
   "cell_type": "code",
   "execution_count": null,
   "metadata": {},
   "outputs": [],
   "source": [
    "rekordy = [\n",
    "    {\"imie\": \"Adam\", \"nazwisko\": \"Nowak\", \"wiek\": 35},\n",
    "    {\"imie\": \"Anna\", \"nazwisko\": \"Nowak\", \"wiek\": 29},\n",
    "    {\"imie\": \"Artur\", \"nazwisko\": \"Nowakowski\", \"wiek\": 39},\n",
    "    {\"imie\": \"Alojzy\", \"nazwisko\": \"Kowalski\", \"wiek\": 19}\n",
    "]"
   ]
  }
 ],
 "metadata": {
  "kernelspec": {
   "display_name": "Python 3",
   "language": "python",
   "name": "python3"
  },
  "language_info": {
   "codemirror_mode": {
    "name": "ipython",
    "version": 3
   },
   "file_extension": ".py",
   "mimetype": "text/x-python",
   "name": "python",
   "nbconvert_exporter": "python",
   "pygments_lexer": "ipython3",
   "version": "3.6.5"
  }
 },
 "nbformat": 4,
 "nbformat_minor": 4
}
