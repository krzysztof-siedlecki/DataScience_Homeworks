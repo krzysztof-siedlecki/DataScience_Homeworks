{
 "cells": [
  {
   "cell_type": "markdown",
   "metadata": {},
   "source": [
    "#### Zadanie 1\n",
    "\n",
    "Poniżej znajduje się lista prostokątów opisanych jako para (bok_a, bok_b).\n",
    "Dla każego z prostokątów wylicz obwód i pole powierzchni.\n",
    "\n",
    "Stwórz nową listę `wyniki` która będzie zawierała pary `(obwod, pole)` dla każdego z prostokątów."
   ]
  },
  {
   "cell_type": "code",
   "execution_count": 24,
   "metadata": {},
   "outputs": [
    {
     "data": {
      "text/plain": [
       "[(120, 500), (38, 90), (36, 45), (150, 1350)]"
      ]
     },
     "execution_count": 24,
     "metadata": {},
     "output_type": "execute_result"
    }
   ],
   "source": [
    "rects = [\n",
    "    (10, 50),\n",
    "    (10, 9),\n",
    "    (15, 3),\n",
    "    (30, 45)\n",
    "]\n",
    "\n",
    "\n",
    "wyniki = []\n",
    "for a,b in rects:\n",
    "    obwod = 2*a + 2*b\n",
    "    pole = a*b\n",
    "    wyniki.append((obwod,pole))\n",
    "    \n",
    "wyniki"
   ]
  },
  {
   "cell_type": "markdown",
   "metadata": {},
   "source": [
    "#### Zadanie 2\n",
    "\n",
    "Iterując przez listę słowników wypisz dane tych osób, które mają więcej niż 30 lat"
   ]
  },
  {
   "cell_type": "code",
   "execution_count": 25,
   "metadata": {},
   "outputs": [
    {
     "name": "stdout",
     "output_type": "stream",
     "text": [
      "Adam Nowak 35\n",
      "Artur Nowakowski 39\n"
     ]
    }
   ],
   "source": [
    "rekordy = [\n",
    "    {\"imie\": \"Adam\", \"nazwisko\": \"Nowak\", \"wiek\": 35},\n",
    "    {\"imie\": \"Anna\", \"nazwisko\": \"Nowak\", \"wiek\": 29},\n",
    "    {\"imie\": \"Artur\", \"nazwisko\": \"Nowakowski\", \"wiek\": 39},\n",
    "    {\"imie\": \"Alojzy\", \"nazwisko\": \"Kowalski\", \"wiek\": 19}\n",
    "]\n",
    "\n",
    "for i in rekordy:\n",
    "    if i[\"wiek\"] > 30:\n",
    "        print(i[\"imie\"],i[\"nazwisko\"],i[\"wiek\"]) "
   ]
  },
  {
   "cell_type": "markdown",
   "metadata": {},
   "source": [
    "#### Zadanie 3\n",
    "\n",
    "Napisz funkcję, która przyjmie słownik i wypisze wszystkie elementy w formie `<klucz> : <wartość>`\n",
    "\n",
    "Np. dla `{\"id\": 1, \"marka\": \"Audi\"}`\n",
    "\n",
    "```\n",
    "id : 1\n",
    "marka : Audi\n",
    "```"
   ]
  },
  {
   "cell_type": "code",
   "execution_count": 26,
   "metadata": {},
   "outputs": [
    {
     "name": "stdout",
     "output_type": "stream",
     "text": [
      "imie  :  Adam\n",
      "nazwisko  :  Nowak\n",
      "wiek  :  35\n",
      "imie  :  Anna\n",
      "nazwisko  :  Nowak\n",
      "wiek  :  29\n",
      "imie  :  Artur\n",
      "nazwisko  :  Nowakowski\n",
      "wiek  :  39\n",
      "imie  :  Alojzy\n",
      "nazwisko  :  Kowalski\n",
      "wiek  :  19\n"
     ]
    }
   ],
   "source": [
    "def slownik(rekordy):\n",
    "    for i in rekordy:\n",
    "        for key, value in i.items():\n",
    "            print(key, \" : \", value)\n",
    "\n",
    "slownik(rekordy)"
   ]
  },
  {
   "cell_type": "markdown",
   "metadata": {},
   "source": [
    "#### Zadanie 4\n",
    "\n",
    "Dopisz do każdego słownika z listy klucz `zawód` z odpowiednią wartością (zgodnie z kolejnością)"
   ]
  },
  {
   "cell_type": "code",
   "execution_count": 33,
   "metadata": {},
   "outputs": [
    {
     "data": {
      "text/plain": [
       "[{'imie': 'Adam',\n",
       "  'nazwisko': 'Nowak',\n",
       "  'wiek': 35,\n",
       "  'zawód': 'Programista Java'},\n",
       " {'imie': 'Anna',\n",
       "  'nazwisko': 'Nowak',\n",
       "  'wiek': 29,\n",
       "  'zawód': 'Programistka PHP'},\n",
       " {'imie': 'Artur',\n",
       "  'nazwisko': 'Nowakowski',\n",
       "  'wiek': 39,\n",
       "  'zawód': 'Programista Python'},\n",
       " {'imie': 'Alojzy',\n",
       "  'nazwisko': 'Kowalski',\n",
       "  'wiek': 19,\n",
       "  'zawód': 'CEO startupu'}]"
      ]
     },
     "execution_count": 33,
     "metadata": {},
     "output_type": "execute_result"
    }
   ],
   "source": [
    "rekordy = [\n",
    "    {\"imie\": \"Adam\", \"nazwisko\": \"Nowak\", \"wiek\": 35},\n",
    "    {\"imie\": \"Anna\", \"nazwisko\": \"Nowak\", \"wiek\": 29},\n",
    "    {\"imie\": \"Artur\", \"nazwisko\": \"Nowakowski\", \"wiek\": 39},\n",
    "    {\"imie\": \"Alojzy\", \"nazwisko\": \"Kowalski\", \"wiek\": 19}\n",
    "]\n",
    "zawody = [\"Programista Java\", \"Programistka PHP\", \"Programista Python\", \"CEO startupu\"]\n",
    "\n",
    "\n",
    "for i in range(len(rekordy)):\n",
    "    rekordy[i][\"zawód\"]=zawody[i]\n",
    "        \n",
    "rekordy"
   ]
  },
  {
   "cell_type": "markdown",
   "metadata": {},
   "source": [
    "#### Zadanie 5\n",
    "\n",
    "Na podstawie listy słowników stwórz drugą listę, w której słowniki będą zawierały wyłącznie klucze `imie` i `nazwisko`"
   ]
  },
  {
   "cell_type": "code",
   "execution_count": 43,
   "metadata": {},
   "outputs": [
    {
     "data": {
      "text/plain": [
       "[{'imie': 'Adam', 'nazwisko': 'Nowak'},\n",
       " {'imie': 'Anna', 'nazwisko': 'Nowak'},\n",
       " {'imie': 'Artur', 'nazwisko': 'Nowakowski'},\n",
       " {'imie': 'Alojzy', 'nazwisko': 'Kowalski'}]"
      ]
     },
     "execution_count": 43,
     "metadata": {},
     "output_type": "execute_result"
    }
   ],
   "source": [
    "rekordy = [\n",
    "    {\"imie\": \"Adam\", \"nazwisko\": \"Nowak\", \"wiek\": 35},\n",
    "    {\"imie\": \"Anna\", \"nazwisko\": \"Nowak\", \"wiek\": 29},\n",
    "    {\"imie\": \"Artur\", \"nazwisko\": \"Nowakowski\", \"wiek\": 39},\n",
    "    {\"imie\": \"Alojzy\", \"nazwisko\": \"Kowalski\", \"wiek\": 19}\n",
    "]\n",
    "\n",
    "nowy_slownik = rekordy\n",
    "\n",
    "for i in nowy_slownik:\n",
    "    i.pop(\"wiek\")\n",
    "    \n",
    "nowy_slownik"
   ]
  }
 ],
 "metadata": {
  "kernelspec": {
   "display_name": "Python 3 (ipykernel)",
   "language": "python",
   "name": "python3"
  },
  "language_info": {
   "codemirror_mode": {
    "name": "ipython",
    "version": 3
   },
   "file_extension": ".py",
   "mimetype": "text/x-python",
   "name": "python",
   "nbconvert_exporter": "python",
   "pygments_lexer": "ipython3",
   "version": "3.8.11"
  }
 },
 "nbformat": 4,
 "nbformat_minor": 4
}
