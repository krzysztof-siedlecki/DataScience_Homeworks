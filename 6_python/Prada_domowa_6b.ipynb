{
 "cells": [
  {
   "cell_type": "markdown",
   "metadata": {},
   "source": [
    "#### Zadanie 1\n",
    "\n",
    "Zdefiniuj funkcję `separator`, która zwróci string \"-----#####-----\"\n",
    "\n",
    "(Zwróci, a nie wypisze)"
   ]
  },
  {
   "cell_type": "code",
   "execution_count": 1,
   "metadata": {},
   "outputs": [
    {
     "data": {
      "text/plain": [
       "'-----#####-----'"
      ]
     },
     "execution_count": 1,
     "metadata": {},
     "output_type": "execute_result"
    }
   ],
   "source": [
    "def separator():\n",
    "    separator = \"-----#####-----\"\n",
    "    return separator\n",
    "\n",
    "separator()"
   ]
  },
  {
   "cell_type": "markdown",
   "metadata": {},
   "source": [
    "#### Zadanie 2\n",
    "\n",
    "Wypisz liczby od 1 do 10 (włącznie) oddzielone separatorem (każdy element w nowej linii). Separator pobierz ze swojej funkcji.\n",
    "\n",
    "```\n",
    "1\n",
    "-----#####-----\n",
    "2\n",
    "-----#####-----\n",
    "...\n",
    "```"
   ]
  },
  {
   "cell_type": "code",
   "execution_count": 10,
   "metadata": {},
   "outputs": [
    {
     "name": "stdout",
     "output_type": "stream",
     "text": [
      "1\n",
      "-----#####-----\n",
      "2\n",
      "-----#####-----\n",
      "3\n",
      "-----#####-----\n",
      "4\n",
      "-----#####-----\n",
      "5\n",
      "-----#####-----\n",
      "6\n",
      "-----#####-----\n",
      "7\n",
      "-----#####-----\n",
      "8\n",
      "-----#####-----\n",
      "9\n",
      "-----#####-----\n",
      "10\n",
      "-----#####-----\n"
     ]
    }
   ],
   "source": [
    "for i in range (1,11):\n",
    "    print(i)\n",
    "    print(separator())"
   ]
  },
  {
   "cell_type": "markdown",
   "metadata": {},
   "source": [
    "#### Zadanie 3\n",
    "\n",
    "Zdefinuj funkcję `do_kwadratu`, która przyjmie liczbę i zwróci jej wartość podniesioną do drugiej potęgi"
   ]
  },
  {
   "cell_type": "code",
   "execution_count": 2,
   "metadata": {},
   "outputs": [
    {
     "name": "stdout",
     "output_type": "stream",
     "text": [
      "6\n"
     ]
    },
    {
     "data": {
      "text/plain": [
       "36"
      ]
     },
     "execution_count": 2,
     "metadata": {},
     "output_type": "execute_result"
    }
   ],
   "source": [
    "liczba = int(input())\n",
    "\n",
    "def do_kwadratu(i):\n",
    "    return i**2\n",
    "\n",
    "do_kwadratu(liczba)"
   ]
  },
  {
   "cell_type": "markdown",
   "metadata": {},
   "source": [
    "#### Zadanie 4\n",
    "\n",
    "Wypisz wyniki działania funkcji `do_kwadratu` na liczbach z listy"
   ]
  },
  {
   "cell_type": "code",
   "execution_count": 3,
   "metadata": {},
   "outputs": [
    {
     "name": "stdout",
     "output_type": "stream",
     "text": [
      "1\n",
      "4\n",
      "9\n",
      "16\n",
      "25\n"
     ]
    }
   ],
   "source": [
    "liczby = list(range(1, 6))\n",
    "\n",
    "\n",
    "for i in liczby:\n",
    "    print(do_kwadratu(i))"
   ]
  },
  {
   "cell_type": "markdown",
   "metadata": {},
   "source": [
    "#### Zadanie 5\n",
    "\n",
    "Zdefinuj funkcje `pole_trojkata`, która przyjmie wartość podstawy i wysokość trójkąta i zwróci jego pole.\n",
    "\n",
    "Wykorzystaj funkcję pole_trojkata dla wartości `a` i `h`"
   ]
  },
  {
   "cell_type": "code",
   "execution_count": 4,
   "metadata": {},
   "outputs": [
    {
     "data": {
      "text/plain": [
       "40.0"
      ]
     },
     "execution_count": 4,
     "metadata": {},
     "output_type": "execute_result"
    }
   ],
   "source": [
    "a = 10\n",
    "h = 8\n",
    "\n",
    "def pole_trojkata(a,h):\n",
    "    return a*h/2\n",
    "        \n",
    "pole_trojkata(a,h)"
   ]
  },
  {
   "cell_type": "markdown",
   "metadata": {},
   "source": [
    "#### Zadanie 6\n",
    "\n",
    "Wykorzystaj funkcję pole_trojkata dla danych w postaci pary (podstawa, wysokość)"
   ]
  },
  {
   "cell_type": "code",
   "execution_count": 5,
   "metadata": {},
   "outputs": [
    {
     "data": {
      "text/plain": [
       "40.0"
      ]
     },
     "execution_count": 5,
     "metadata": {},
     "output_type": "execute_result"
    }
   ],
   "source": [
    "dane = (10, 8)\n",
    "\n",
    "pole_trojkata(dane[0], dane[1])"
   ]
  },
  {
   "cell_type": "markdown",
   "metadata": {},
   "source": [
    "#### Zadanie 7\n",
    "\n",
    "Ulepsz funkcję `pole_trojkata` dodając sprawdzenie, czy podane liczby są większe od zera\n",
    "\n",
    "Jeżeli nie, wypisz komunikat i zwróć `None`\n",
    "\n",
    "Przetestuj na różnych wariantach"
   ]
  },
  {
   "cell_type": "code",
   "execution_count": 10,
   "metadata": {},
   "outputs": [
    {
     "name": "stdout",
     "output_type": "stream",
     "text": [
      "6.0\n",
      "3.0\n",
      "błąd, zła wartość\n"
     ]
    }
   ],
   "source": [
    "dane_trojkat = [(4,3),(6,1),(2,-2)]\n",
    "\n",
    "def pole_trojkata(dane_trojkat):\n",
    "    for i in dane_trojkat:\n",
    "        if i[0] >= 0 and i[1] >= 0:\n",
    "            print(i[0]*i[1]/2)\n",
    "        else: \n",
    "            print(\"błąd, zła wartość\")\n",
    "            return None\n",
    "\n",
    "pole_trojkata(dane_trojkat)"
   ]
  },
  {
   "cell_type": "markdown",
   "metadata": {},
   "source": [
    "#### Zadanie 8\n",
    "\n",
    "Ulepsz funkcje `pole_trojkata` raz jeszcze:\n",
    "\n",
    "Dodaj opcjonalny argument `verbose` o domyślnej wartości `False`.\n",
    "\n",
    "Użyj go do sprawdzenia, czy w przypadku liczb mniejszych od zera wypisać komunikat, czy nie.\n",
    "\n",
    "Uwaga - jeżeli mniejsze od zera, dalej zwróć `None`, ale bez wypisywania komunikatu."
   ]
  },
  {
   "cell_type": "code",
   "execution_count": 12,
   "metadata": {},
   "outputs": [
    {
     "name": "stdout",
     "output_type": "stream",
     "text": [
      "6.0\n",
      "3.0\n"
     ]
    }
   ],
   "source": [
    "dane_trojkat = [(4,3),(6,1),(2,-2)]\n",
    "\n",
    "def pole_trojkata(dane_trojkat, verbose = False):\n",
    "    for i in dane_trojkat:\n",
    "        if i[0] >= 0 and i[1] >= 0:\n",
    "            print(i[0]*i[1]/2)\n",
    "        else:\n",
    "            if verbose==True:\n",
    "                print(\"błąd, zła wartość\")\n",
    "                return None\n",
    "\n",
    "pole_trojkata(dane_trojkat)"
   ]
  }
 ],
 "metadata": {
  "kernelspec": {
   "display_name": "Python 3 (ipykernel)",
   "language": "python",
   "name": "python3"
  },
  "language_info": {
   "codemirror_mode": {
    "name": "ipython",
    "version": 3
   },
   "file_extension": ".py",
   "mimetype": "text/x-python",
   "name": "python",
   "nbconvert_exporter": "python",
   "pygments_lexer": "ipython3",
   "version": "3.8.11"
  }
 },
 "nbformat": 4,
 "nbformat_minor": 4
}
