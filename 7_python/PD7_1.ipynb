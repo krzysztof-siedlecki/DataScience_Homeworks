{
 "cells": [
  {
   "cell_type": "markdown",
   "metadata": {},
   "source": [
    "#### Zadanie 1\n",
    "\n",
    "Napisz funkcję `replace_many`, która podmieni wszystkie wystąpienia słów przekazanych jako lista\n",
    "\n",
    "Tzn. funkcja powinna przyjmować jako argumenty: `tekst`, `lista_starych`, `lista_nowych`, i zwrócić nowy tekst z dokonanymi podmianami\n",
    "\n",
    "Np. dla tekstu `\"Ala ma kota.\"`, list `stare=[\"Ala\", \"kota\"]` i `nowe=[\"Edyta\", \"psa\"]`\n",
    "\n",
    "Nowy tekst to : `\"Edyta ma psa.\"`"
   ]
  },
  {
   "cell_type": "code",
   "execution_count": null,
   "metadata": {},
   "outputs": [],
   "source": []
  },
  {
   "cell_type": "markdown",
   "metadata": {},
   "source": [
    "#### Zadanie 2\n",
    "\n",
    "Ulepsz funkcję `replace_many` dodając sprawdzenie, czy listy są równej długości\n",
    "\n",
    "Jeżeli nie, wypisz komunikat i zwróć wartość `None`\n"
   ]
  },
  {
   "cell_type": "code",
   "execution_count": null,
   "metadata": {},
   "outputs": [],
   "source": []
  },
  {
   "cell_type": "markdown",
   "metadata": {},
   "source": [
    "#### Zadanie 3\n",
    "\n",
    "Napisz funkcje `na_slowa`, która przyjmie tekst (string) i zwróci listę słów"
   ]
  },
  {
   "cell_type": "code",
   "execution_count": null,
   "metadata": {},
   "outputs": [],
   "source": []
  },
  {
   "cell_type": "markdown",
   "metadata": {},
   "source": [
    "#### Zadanie 4\n",
    "\n",
    "Napisz funkcje `wielkie_slowa`, która przyjmie tekst (string) i zwróci listę słów pisanych z wielkiej litery"
   ]
  },
  {
   "cell_type": "code",
   "execution_count": null,
   "metadata": {},
   "outputs": [],
   "source": []
  },
  {
   "cell_type": "markdown",
   "metadata": {},
   "source": [
    "#### Zadanie 5\n",
    "\n",
    "Ulepsz funkcje `wielkie_slowa` - zadbaj o usunięcie takich znaków: \".\" \",\" \"!\" \"?\""
   ]
  },
  {
   "cell_type": "code",
   "execution_count": null,
   "metadata": {},
   "outputs": [],
   "source": [
    "niechciane_znaki = \".,!?\"\n",
    "\n",
    "print(wielkie_slowa(\"Ala, ma kota?!\"))\n",
    "print(wielkie_slowa_v2(\"Ala, ma kota?!\"))\n",
    "\n",
    "# ['Ala,', 'Ma', 'Kota?!']\n",
    "# ['Ala', 'Ma', 'Kota']"
   ]
  },
  {
   "cell_type": "markdown",
   "metadata": {},
   "source": [
    "#### Zadanie 6\n",
    "\n",
    "Wykorzystaj funkcję `wielkie_slowa`, żeby dodać słowa tekstu do listy\n",
    "\n",
    "(ale nie modyfikuj tej funkcji)"
   ]
  },
  {
   "cell_type": "code",
   "execution_count": null,
   "metadata": {},
   "outputs": [],
   "source": [
    "tekst = \"Image not loading in python raspbian.\"\n",
    "slowa = [\"Convert\", \"A\", \"Tuple\", \"To\", \"A\", \"List\"]"
   ]
  },
  {
   "cell_type": "markdown",
   "metadata": {},
   "source": [
    "#### Zadanie 7\n",
    "\n",
    "Napisz funkcję `dodaj_slowa`, która przyjmie tekst i listę, do której słowa tekstu zostaną dodane"
   ]
  },
  {
   "cell_type": "code",
   "execution_count": null,
   "metadata": {},
   "outputs": [],
   "source": [
    "tekst = \"Image not loading in python raspbian.\"\n",
    "slowa = [\"Convert\", \"A\", \"Tuple\", \"To\", \"A\", \"List\"]"
   ]
  }
 ],
 "metadata": {
  "kernelspec": {
   "display_name": "Python 3",
   "language": "python",
   "name": "python3"
  },
  "language_info": {
   "codemirror_mode": {
    "name": "ipython",
    "version": 3
   },
   "file_extension": ".py",
   "mimetype": "text/x-python",
   "name": "python",
   "nbconvert_exporter": "python",
   "pygments_lexer": "ipython3",
   "version": "3.6.5"
  }
 },
 "nbformat": 4,
 "nbformat_minor": 4
}
