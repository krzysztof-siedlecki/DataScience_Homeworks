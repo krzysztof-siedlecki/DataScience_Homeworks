{
 "cells": [
  {
   "cell_type": "markdown",
   "metadata": {},
   "source": [
    "#### Zadanie 1\n",
    "\n",
    "Napisz funkcję `replace_many`, która podmieni wszystkie wystąpienia słów przekazanych jako lista\n",
    "\n",
    "Tzn. funkcja powinna przyjmować jako argumenty: `tekst`, `lista_starych`, `lista_nowych`, i zwrócić nowy tekst z dokonanymi podmianami\n",
    "\n",
    "Np. dla tekstu `\"Ala ma kota.\"`, list `stare=[\"Ala\", \"kota\"]` i `nowe=[\"Edyta\", \"psa\"]`\n",
    "\n",
    "Nowy tekst to : `\"Edyta ma psa.\"`"
   ]
  },
  {
   "cell_type": "code",
   "execution_count": 1,
   "metadata": {},
   "outputs": [
    {
     "data": {
      "text/plain": [
       "'Edyta ma psaa'"
      ]
     },
     "execution_count": 1,
     "metadata": {},
     "output_type": "execute_result"
    }
   ],
   "source": [
    "tekst = \"Ala ma kota\"\n",
    "lista_starych = [\"Ala\", \"kota\"]\n",
    "lista_nowych = [\"Edyta\", \"psaa\"]\n",
    "\n",
    "def replace_many (tekst, lista_starych, lista_nowych):\n",
    "    for i in range(len(lista_starych)):\n",
    "        tekst = tekst.replace(lista_starych[i], lista_nowych[i])\n",
    "    return(tekst)\n",
    "\n",
    "replace_many (tekst, lista_starych, lista_nowych)"
   ]
  },
  {
   "cell_type": "markdown",
   "metadata": {},
   "source": [
    "#### Zadanie 2\n",
    "\n",
    "Ulepsz funkcję `replace_many` dodając sprawdzenie, czy listy są równej długości\n",
    "\n",
    "Jeżeli nie, wypisz komunikat i zwróć wartość `None`\n"
   ]
  },
  {
   "cell_type": "code",
   "execution_count": 2,
   "metadata": {},
   "outputs": [],
   "source": [
    "def replace_many (tekst, lista_starych, lista_nowych):\n",
    "    if len(lista_starych) == len(lista_nowych):\n",
    "        for i in range(len(lista_starych)):\n",
    "            tekst = tekst.replace(lista_starych[i], lista_nowych[i])\n",
    "        return(tekst)\n",
    "    else:\n",
    "        print (None)"
   ]
  },
  {
   "cell_type": "markdown",
   "metadata": {},
   "source": [
    "#### Zadanie 3\n",
    "\n",
    "Napisz funkcje `na_slowa`, która przyjmie tekst (string) i zwróci listę słów"
   ]
  },
  {
   "cell_type": "code",
   "execution_count": 3,
   "metadata": {},
   "outputs": [
    {
     "name": "stdout",
     "output_type": "stream",
     "text": [
      "['która', 'przyjmie', 'tekst']\n"
     ]
    }
   ],
   "source": [
    "tekst = \"która przyjmie tekst\"\n",
    "\n",
    "\n",
    "def na_slowa (tekst):\n",
    "    lista = tekst.split()\n",
    "    print(lista)\n",
    "\n",
    "na_slowa (tekst)"
   ]
  },
  {
   "cell_type": "markdown",
   "metadata": {},
   "source": [
    "#### Zadanie 4\n",
    "\n",
    "Napisz funkcje `wielkie_slowa`, która przyjmie tekst (string) i zwróci listę słów pisanych z wielkiej litery"
   ]
  },
  {
   "cell_type": "code",
   "execution_count": 4,
   "metadata": {},
   "outputs": [
    {
     "name": "stdout",
     "output_type": "stream",
     "text": [
      "['KTÓRA', 'PRZYJMIE', 'TEKST']\n"
     ]
    }
   ],
   "source": [
    "def wielkie_slowa (tekst):\n",
    "    wielki_tekst = tekst.upper()\n",
    "    wielki_tekst = wielki_tekst.split()\n",
    "    print(wielki_tekst)\n",
    "    \n",
    "wielkie_slowa (tekst)"
   ]
  },
  {
   "cell_type": "markdown",
   "metadata": {},
   "source": [
    "#### Zadanie 5\n",
    "\n",
    "Ulepsz funkcje `wielkie_slowa` - zadbaj o usunięcie takich znaków: \".\" \",\" \"!\" \"?\""
   ]
  },
  {
   "cell_type": "code",
   "execution_count": 5,
   "metadata": {
    "scrolled": true
   },
   "outputs": [
    {
     "name": "stdout",
     "output_type": "stream",
     "text": [
      "['ALA,', 'MA', 'KOTA?!']\n",
      "None\n"
     ]
    },
    {
     "ename": "NameError",
     "evalue": "name 'wielkie_slowa_v2' is not defined",
     "output_type": "error",
     "traceback": [
      "\u001b[1;31m---------------------------------------------------------------------------\u001b[0m",
      "\u001b[1;31mNameError\u001b[0m                                 Traceback (most recent call last)",
      "\u001b[1;32m~\\AppData\\Local\\Temp/ipykernel_1320/2401239383.py\u001b[0m in \u001b[0;36m<module>\u001b[1;34m\u001b[0m\n\u001b[0;32m      2\u001b[0m \u001b[1;33m\u001b[0m\u001b[0m\n\u001b[0;32m      3\u001b[0m \u001b[0mprint\u001b[0m\u001b[1;33m(\u001b[0m\u001b[0mwielkie_slowa\u001b[0m\u001b[1;33m(\u001b[0m\u001b[1;34m\"Ala, ma kota?!\"\u001b[0m\u001b[1;33m)\u001b[0m\u001b[1;33m)\u001b[0m\u001b[1;33m\u001b[0m\u001b[1;33m\u001b[0m\u001b[0m\n\u001b[1;32m----> 4\u001b[1;33m \u001b[0mprint\u001b[0m\u001b[1;33m(\u001b[0m\u001b[0mwielkie_slowa_v2\u001b[0m\u001b[1;33m(\u001b[0m\u001b[1;34m\"Ala, ma kota?!\"\u001b[0m\u001b[1;33m)\u001b[0m\u001b[1;33m)\u001b[0m\u001b[1;33m\u001b[0m\u001b[1;33m\u001b[0m\u001b[0m\n\u001b[0m\u001b[0;32m      5\u001b[0m \u001b[1;33m\u001b[0m\u001b[0m\n\u001b[0;32m      6\u001b[0m \u001b[1;31m# ['Ala,', 'Ma', 'Kota?!']\u001b[0m\u001b[1;33m\u001b[0m\u001b[1;33m\u001b[0m\u001b[1;33m\u001b[0m\u001b[0m\n",
      "\u001b[1;31mNameError\u001b[0m: name 'wielkie_slowa_v2' is not defined"
     ]
    }
   ],
   "source": [
    "niechciane_znaki = \".,!?\"\n",
    "\n",
    "print(wielkie_slowa(\"Ala, ma kota?!\"))\n",
    "print(wielkie_slowa_v2(\"Ala, ma kota?!\"))\n",
    "\n",
    "# ['Ala,', 'Ma', 'Kota?!']\n",
    "# ['Ala', 'Ma', 'Kota']"
   ]
  },
  {
   "cell_type": "code",
   "execution_count": 10,
   "metadata": {},
   "outputs": [
    {
     "ename": "AttributeError",
     "evalue": "'function' object has no attribute 'replace'",
     "output_type": "error",
     "traceback": [
      "\u001b[1;31m---------------------------------------------------------------------------\u001b[0m",
      "\u001b[1;31mAttributeError\u001b[0m                            Traceback (most recent call last)",
      "\u001b[1;32m~\\AppData\\Local\\Temp/ipykernel_1320/2194058291.py\u001b[0m in \u001b[0;36m<module>\u001b[1;34m\u001b[0m\n\u001b[0;32m      5\u001b[0m     \u001b[1;32mreturn\u001b[0m \u001b[0mwielki_słowa1\u001b[0m\u001b[1;33m\u001b[0m\u001b[1;33m\u001b[0m\u001b[0m\n\u001b[0;32m      6\u001b[0m \u001b[1;33m\u001b[0m\u001b[0m\n\u001b[1;32m----> 7\u001b[1;33m \u001b[0mwielkie_znaki\u001b[0m \u001b[1;33m(\u001b[0m\u001b[0mwielkie_slowa\u001b[0m\u001b[1;33m)\u001b[0m\u001b[1;33m\u001b[0m\u001b[1;33m\u001b[0m\u001b[0m\n\u001b[0m",
      "\u001b[1;32m~\\AppData\\Local\\Temp/ipykernel_1320/2194058291.py\u001b[0m in \u001b[0;36mwielkie_znaki\u001b[1;34m(wielkie_slowa)\u001b[0m\n\u001b[0;32m      1\u001b[0m \u001b[1;32mdef\u001b[0m \u001b[0mwielkie_znaki\u001b[0m\u001b[1;33m(\u001b[0m\u001b[0mwielkie_slowa\u001b[0m\u001b[1;33m)\u001b[0m\u001b[1;33m:\u001b[0m\u001b[1;33m\u001b[0m\u001b[1;33m\u001b[0m\u001b[0m\n\u001b[1;32m----> 2\u001b[1;33m     \u001b[0mwielkie_slowa\u001b[0m\u001b[1;33m.\u001b[0m\u001b[0mreplace\u001b[0m\u001b[1;33m(\u001b[0m\u001b[1;33m[\u001b[0m\u001b[1;34m\".\"\u001b[0m\u001b[1;33m,\u001b[0m\u001b[1;34m\",\"\u001b[0m\u001b[1;33m,\u001b[0m\u001b[1;34m\"!\"\u001b[0m\u001b[1;33m,\u001b[0m\u001b[1;34m\"?\"\u001b[0m\u001b[1;33m]\u001b[0m\u001b[1;33m)\u001b[0m\u001b[1;33m\u001b[0m\u001b[1;33m\u001b[0m\u001b[0m\n\u001b[0m\u001b[0;32m      3\u001b[0m     \u001b[0mwielkie_slowa\u001b[0m \u001b[1;33m=\u001b[0m \u001b[0mwielkie_slowa\u001b[0m\u001b[1;33m.\u001b[0m\u001b[0mupper\u001b[0m\u001b[1;33m(\u001b[0m\u001b[1;33m)\u001b[0m\u001b[1;33m\u001b[0m\u001b[1;33m\u001b[0m\u001b[0m\n\u001b[0;32m      4\u001b[0m     \u001b[0mwielkie_slowa1\u001b[0m \u001b[1;33m=\u001b[0m \u001b[0mwielki_tekst\u001b[0m\u001b[1;33m.\u001b[0m\u001b[0msplit\u001b[0m\u001b[1;33m(\u001b[0m\u001b[1;33m)\u001b[0m\u001b[1;33m\u001b[0m\u001b[1;33m\u001b[0m\u001b[0m\n\u001b[0;32m      5\u001b[0m     \u001b[1;32mreturn\u001b[0m \u001b[0mwielki_słowa1\u001b[0m\u001b[1;33m\u001b[0m\u001b[1;33m\u001b[0m\u001b[0m\n",
      "\u001b[1;31mAttributeError\u001b[0m: 'function' object has no attribute 'replace'"
     ]
    }
   ],
   "source": [
    "def wielkie_znaki(wielkie_slowa):\n",
    "    wielkie_slowa.replace([\".\",\",\",\"!\",\"?\"])\n",
    "    wielkie_slowa = wielkie_slowa.upper()\n",
    "    wielkie_slowa1 = wielki_tekst.split()\n",
    "    return wielki_słowa1\n",
    "    \n",
    "wielkie_znaki (wielkie_slowa)"
   ]
  },
  {
   "cell_type": "markdown",
   "metadata": {},
   "source": [
    "#### Zadanie 6\n",
    "\n",
    "Wykorzystaj funkcję `wielkie_slowa`, żeby dodać słowa tekstu do listy\n",
    "\n",
    "(ale nie modyfikuj tej funkcji)"
   ]
  },
  {
   "cell_type": "code",
   "execution_count": null,
   "metadata": {},
   "outputs": [],
   "source": [
    "tekst = \"Image not loading in python raspbian.\"\n",
    "slowa = [\"Convert\", \"A\", \"Tuple\", \"To\", \"A\", \"List\"]"
   ]
  },
  {
   "cell_type": "markdown",
   "metadata": {},
   "source": [
    "#### Zadanie 7\n",
    "\n",
    "Napisz funkcję `dodaj_slowa`, która przyjmie tekst i listę, do której słowa tekstu zostaną dodane"
   ]
  },
  {
   "cell_type": "code",
   "execution_count": null,
   "metadata": {},
   "outputs": [],
   "source": [
    "tekst = \"Image not loading in python raspbian.\"\n",
    "slowa = [\"Convert\", \"A\", \"Tuple\", \"To\", \"A\", \"List\"]"
   ]
  }
 ],
 "metadata": {
  "kernelspec": {
   "display_name": "Python 3 (ipykernel)",
   "language": "python",
   "name": "python3"
  },
  "language_info": {
   "codemirror_mode": {
    "name": "ipython",
    "version": 3
   },
   "file_extension": ".py",
   "mimetype": "text/x-python",
   "name": "python",
   "nbconvert_exporter": "python",
   "pygments_lexer": "ipython3",
   "version": "3.8.11"
  }
 },
 "nbformat": 4,
 "nbformat_minor": 4
}
